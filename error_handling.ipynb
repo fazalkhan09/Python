{
 "cells": [
  {
   "cell_type": "code",
   "execution_count": 4,
   "id": "29de4429-e263-4508-8cbe-2d5aeedac800",
   "metadata": {},
   "outputs": [
    {
     "name": "stdin",
     "output_type": "stream",
     "text": [
      "Enter a number. 9\n",
      "Enter the other nmbr to divide... 0\n"
     ]
    },
    {
     "name": "stdout",
     "output_type": "stream",
     "text": [
      "the number you entered is 0 which cant be divided..\n",
      "processes done successfully...\n"
     ]
    }
   ],
   "source": [
    "a=int(input(\"Enter a number.\"))\n",
    "try:\n",
    "    b=int(input(\"Enter the other nmbr to divide...\"))\n",
    "    c=a/b\n",
    "except ZeroDivisionError:\n",
    "    print(\"the number you entered is 0 which cant be divided..\")\n",
    "except ValueError:\n",
    "    print(\"Number is not provided...\")\n",
    "except:\n",
    "    print(\"Somthing went wrong\")\n",
    "else:\n",
    "    print(\"result is \",c)\n",
    "finally:\n",
    "    print(\"processes done successfully...\")\n",
    "    "
   ]
  },
  {
   "cell_type": "code",
   "execution_count": null,
   "id": "e8ce8cb6-eaca-4099-bcd0-c4003d65bdec",
   "metadata": {},
   "outputs": [],
   "source": [
    "#Imagine you have two numbers and want to determine what happens when you divide one number by the other. To do this, you need to create a Python function called `safe_divide.` You give this function two numbers, a `'numerator'` and a `'denominator'`. The 'numerator' is the number you want to divide, and the `'denominator'` is the number you want to divide by. Use the user input method of Python to take the values.\n",
    "\n",
    "#The function should be able to do the division for you and give you the result. But here's the catch: if you try to divide by zero (which is not allowed in math), the function should be smart enough to catch that and tell you that it's not possible to divide by zero. Instead of showing an error, it should return None, which means 'nothing' or 'no value', and print `\"Error: Cannot divide by Zero.`\n"
   ]
  },
  {
   "cell_type": "code",
   "execution_count": 5,
   "id": "26c401cc-0820-4261-9675-208c34a00be9",
   "metadata": {},
   "outputs": [
    {
     "name": "stdin",
     "output_type": "stream",
     "text": [
      "Enter numirator.... 70\n",
      "Enter denumirator.... 7\n"
     ]
    },
    {
     "name": "stdout",
     "output_type": "stream",
     "text": [
      "result :  10.0\n",
      "Proceses ended..\n"
     ]
    }
   ],
   "source": [
    "\n",
    "#Type your code here\n",
    "def safe_divide(numirator,denumirator):\n",
    "    try:\n",
    "        result=numirator/denumirator\n",
    "    except ValueError:\n",
    "        print(\"Error : denomirator not provided\")\n",
    "    except ZeroDivisionError:\n",
    "        print(\"Error : cannot divide by zero\")\n",
    "    except:\n",
    "        print(\"Somthing went wrong\")\n",
    "    else:\n",
    "        return print(\"result : \",result)\n",
    "    finally:\n",
    "        print(\"Proceses ended..\")\n",
    "numirator=int(input(\"Enter numirator....\"))\n",
    "denumirator=int(input(\"Enter denumirator....\"))\n",
    "safe_divide(numirator,denumirator)"
   ]
  },
  {
   "cell_type": "code",
   "execution_count": null,
   "id": "d2dba0db-4a53-4683-b725-e5a222771f29",
   "metadata": {},
   "outputs": [],
   "source": []
  }
 ],
 "metadata": {
  "kernelspec": {
   "display_name": "Python 3 (ipykernel)",
   "language": "python",
   "name": "python3"
  },
  "language_info": {
   "codemirror_mode": {
    "name": "ipython",
    "version": 3
   },
   "file_extension": ".py",
   "mimetype": "text/x-python",
   "name": "python",
   "nbconvert_exporter": "python",
   "pygments_lexer": "ipython3",
   "version": "3.10.13"
  }
 },
 "nbformat": 4,
 "nbformat_minor": 5
}
