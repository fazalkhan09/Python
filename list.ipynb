{
 "cells": [
  {
   "cell_type": "code",
   "execution_count": 3,
   "metadata": {},
   "outputs": [
    {
     "name": "stdout",
     "output_type": "stream",
     "text": [
      "Lower -  4  Guesses left \n",
      "\n",
      "Lower -  3  Guesses left \n",
      "\n",
      "Lower -  2  Guesses left \n",
      "\n",
      "Lower -  1  Guesses left \n",
      "\n",
      "Lower -  0  Guesses left \n",
      "\n",
      "Out of try... \n",
      " You Loss...\n",
      " The Correct Number is :  5\n"
     ]
    }
   ],
   "source": [
    "from random import randint\n",
    "sec_num=randint(1,100)\n",
    "num_guesses=0\n",
    "guess=0\n",
    "while guess!= sec_num and num_guesses<=4:\n",
    "    guess=eval(input(\"Enter Number between 1 and 100.\"))\n",
    "    num_guesses=num_guesses+1\n",
    "    if guess<sec_num:\n",
    "        print('Higher - ',5-num_guesses,' Guesses left \\n')\n",
    "    elif guess>sec_num:\n",
    "        print('Lower - ',5-num_guesses,' Guesses left \\n')\n",
    "    else:\n",
    "        print('You Got it...')\n",
    "if num_guesses==5 and guess!=sec_num:\n",
    "    print('Out of try... \\n You Loss...\\n The Correct Number is : ',sec_num)"
   ]
  }
 ],
 "metadata": {
  "kernelspec": {
   "display_name": "base",
   "language": "python",
   "name": "python3"
  },
  "language_info": {
   "codemirror_mode": {
    "name": "ipython",
    "version": 3
   },
   "file_extension": ".py",
   "mimetype": "text/x-python",
   "name": "python",
   "nbconvert_exporter": "python",
   "pygments_lexer": "ipython3",
   "version": "3.10.13"
  }
 },
 "nbformat": 4,
 "nbformat_minor": 2
}
