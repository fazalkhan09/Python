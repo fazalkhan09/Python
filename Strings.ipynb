{
 "cells": [
  {
   "cell_type": "code",
   "execution_count": 1,
   "id": "d81fb07b-32d3-4807-b905-3eea5eb6b598",
   "metadata": {},
   "outputs": [
    {
     "name": "stdout",
     "output_type": "stream",
     "text": [
      "This is a stringthis is another string.\n",
      "This is a stringThis is a string\n",
      "this string contain lette a \n"
     ]
    }
   ],
   "source": [
    "a='This is a string' #a string \n",
    "b=\"this is another string.\"\n",
    "c='' #empty string\n",
    "print(a+b) # string concatination\n",
    "print(a*2)#string repetition\n",
    "if 'a' in a:\n",
    "    print(\"this string contain lette a \")"
   ]
  },
  {
   "cell_type": "code",
   "execution_count": 6,
   "id": "afeb2876",
   "metadata": {},
   "outputs": [
    {
     "name": "stdout",
     "output_type": "stream",
     "text": [
      "this b normal string\n",
      "this a normal string\n",
      "5\n"
     ]
    }
   ],
   "source": [
    "a=\"This b Normal String\"\n",
    "a=a.lower()\n",
    "print(a)\n",
    "a=a.replace('b','a')\n",
    "print(a)\n",
    "print(a.index('a'))"
   ]
  },
  {
   "cell_type": "code",
   "execution_count": 9,
   "id": "2195d70e",
   "metadata": {},
   "outputs": [
    {
     "name": "stdout",
     "output_type": "stream",
     "text": [
      "i can't go\n",
      "\"money make the mare go\"\n"
     ]
    }
   ],
   "source": [
    "b=\"i can\\'t go\"\n",
    "print(b)\n",
    "c='\\\"money make the mare go\\\"'\n",
    "print(c)"
   ]
  }
 ],
 "metadata": {
  "kernelspec": {
   "display_name": "Python 3 (ipykernel)",
   "language": "python",
   "name": "python3"
  },
  "language_info": {
   "codemirror_mode": {
    "name": "ipython",
    "version": 3
   },
   "file_extension": ".py",
   "mimetype": "text/x-python",
   "name": "python",
   "nbconvert_exporter": "python",
   "pygments_lexer": "ipython3",
   "version": "3.10.13"
  }
 },
 "nbformat": 4,
 "nbformat_minor": 5
}
